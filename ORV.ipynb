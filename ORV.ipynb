{
 "cells": [
  {
   "attachments": {},
   "cell_type": "markdown",
   "metadata": {},
   "source": [
    "# Knjižnica OpenCV (N1)"
   ]
  },
  {
   "attachments": {},
   "cell_type": "markdown",
   "metadata": {},
   "source": [
    "### Uvoz knjiznic"
   ]
  },
  {
   "cell_type": "code",
   "execution_count": 1,
   "metadata": {},
   "outputs": [],
   "source": [
    "import cv2\n",
    "import numpy as np"
   ]
  },
  {
   "attachments": {},
   "cell_type": "markdown",
   "metadata": {},
   "source": [
    "### Funkcija my_roberts"
   ]
  },
  {
   "cell_type": "code",
   "execution_count": 2,
   "metadata": {},
   "outputs": [],
   "source": [
    "def my_roberts(slika, kontrast):\n",
    "    # Pretvori sliko v sivinsko obliko, če ni že v tej obliki\n",
    "    if len(slika.shape) == 3:\n",
    "        slika = cv2.cvtColor(slika, cv2.COLOR_BGR2GRAY)\n",
    "    \n",
    "    # Ustvari jedra za Robertsov detektor robov\n",
    "    kernel_x = np.array([[1, 0], [0, -1]], dtype=np.float32)\n",
    "    kernel_y = np.array([[0, 1], [-1, 0]], dtype=np.float32)\n",
    "    \n",
    "    # Uporabi Robertsov detektor robov na sliki\n",
    "    gradient_x = cv2.filter2D(slika, -1, kernel_x)\n",
    "    gradient_y = cv2.filter2D(slika, -1, kernel_y)\n",
    "    slika_robov = np.sqrt(np.square(gradient_x) + np.square(gradient_y))\n",
    "    # Spremeni kontrast slike postopoma\n",
    "    min_val = np.min(slika_robov)\n",
    "    max_val = np.max(slika_robov)\n",
    "    avg_val = np.mean(slika_robov)\n",
    "    slika_robov = ((slika_robov - avg_val) * kontrast) + avg_val\n",
    "    slika_robov = np.clip(slika_robov, min_val, max_val)\n",
    "\n",
    "    # Pretvori slika_robov v uint8 obliko za prikaz\n",
    "    slika_robov = ((slika_robov - min_val) * (255 / (max_val - min_val))).astype(np.uint8)\n",
    "\n",
    "    return slika_robov\n"
   ]
  },
  {
   "attachments": {},
   "cell_type": "markdown",
   "metadata": {},
   "source": [
    "### Glavna funkcija"
   ]
  },
  {
   "cell_type": "code",
   "execution_count": 4,
   "metadata": {},
   "outputs": [],
   "source": [
    "\n",
    "cv2.namedWindow('Kontrast')\n",
    "cv2.createTrackbar('Vrednost kontrasta', 'Kontrast', 150, 300, update_contrast)\n",
    "\n",
    "\n",
    "# Odpre kamero in uporabi funkcijo my_roberts na vsakem zajemu slike\n",
    "cap = cv2.VideoCapture(0)\n",
    "snemanje = False\n",
    "\n",
    "\n",
    "\n",
    "while True:\n",
    "    ret, slika = cap.read()\n",
    "\n",
    "    cv2.imshow('Originalna slika', slika)\n",
    "    if snemanje:\n",
    "            slika_robov = my_roberts(slika, kontrast)\n",
    "            cv2.imshow('Slika robov (Roberts)', slika_robov)\n",
    " \n",
    "    key = cv2.waitKey(1)\n",
    "    if key & 0xFF == ord('q'):\n",
    "        break\n",
    "    elif key & 0xFF == ord('1'):\n",
    "        snemanje = True\n",
    "\n",
    "\n",
    "cap.release()\n",
    "cv2.destroyAllWindows()"
   ]
  }
 ],
 "metadata": {
  "kernelspec": {
   "display_name": "Python 3",
   "language": "python",
   "name": "python3"
  },
  "language_info": {
   "codemirror_mode": {
    "name": "ipython",
    "version": 3
   },
   "file_extension": ".py",
   "mimetype": "text/x-python",
   "name": "python",
   "nbconvert_exporter": "python",
   "pygments_lexer": "ipython3",
   "version": "3.11.2"
  },
  "orig_nbformat": 4
 },
 "nbformat": 4,
 "nbformat_minor": 2
}
