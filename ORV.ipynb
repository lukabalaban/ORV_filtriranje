{
 "cells": [
  {
   "attachments": {},
   "cell_type": "markdown",
   "metadata": {},
   "source": [
    "# Knjižnica OpenCV (N1)"
   ]
  },
  {
   "attachments": {},
   "cell_type": "markdown",
   "metadata": {},
   "source": [
    "### Uvoz knjiznic"
   ]
  },
  {
   "cell_type": "code",
   "execution_count": 1,
   "metadata": {},
   "outputs": [],
   "source": [
    "import cv2\n",
    "import numpy as np"
   ]
  },
  {
   "attachments": {},
   "cell_type": "markdown",
   "metadata": {},
   "source": [
    "### Funkcija my_roberts"
   ]
  },
  {
   "cell_type": "code",
   "execution_count": 2,
   "metadata": {},
   "outputs": [],
   "source": [
    "def my_roberts(slika):\n",
    "    #napisi mi funkcijo\n",
    "    r1 = np.array([[1, 0], [0, -1]])\n",
    "    r2 = np.array([[0, 1], [-1, 0]])\n",
    "    \n",
    "    slika = slika.astype('float')\n",
    "    slika_robov = np.zeros_like(slika)\n",
    "    \n",
    "    for i in range(slika.shape[0]-1):\n",
    "        for j in range(slika.shape[1]-1):\n",
    "            a = slika[i, j]\n",
    "            b = slika[i, j+1]\n",
    "            c = slika[i+1, j]\n",
    "            d = slika[i+1, j+1]\n",
    "            \n",
    "            Gx = np.sum(r1 * np.array([[a, b], [c, d]]))\n",
    "            Gy = np.sum(r2 * np.array([[a, b], [c, d]]))\n",
    "            \n",
    "            slika_robov[i, j] = np.sqrt(Gx**2 + Gy**2)\n",
    "    \n",
    "    slika_robov = (slika_robov / np.max(slika_robov)) * 255\n",
    "    slika_robov = slika_robov.astype('uint8')\n",
    "    \n",
    "    return slika_robov\n"
   ]
  },
  {
   "attachments": {},
   "cell_type": "markdown",
   "metadata": {},
   "source": [
    "### Funkcija my_prewitt"
   ]
  },
  {
   "cell_type": "code",
   "execution_count": null,
   "metadata": {},
   "outputs": [],
   "source": [
    "def my_prewitt(slika):\n",
    "     #napisi mi funkcijo\n",
    "    p1 = np.array([[1, 0, -1], [1, 0, -1], [1, 0, -1]])\n",
    "    p2 = np.array([[1, 1, 1], [0, 0, 0], [-1, -1, -1]])\n",
    "    \n",
    "    slika = slika.astype('float')\n",
    "    slika_robov = np.zeros_like(slika)\n",
    "    \n",
    "    for i in range(1, slika.shape[0]-1):\n",
    "        for j in range(1, slika.shape[1]-1):\n",
    "            a = slika[i-1:i+2, j-1:j+2]\n",
    "            \n",
    "            Gx = np.sum(p1 * a)\n",
    "            Gy = np.sum(p2 * a)\n",
    "            \n",
    "            slika_robov[i, j] = np.sqrt(Gx**2 + Gy**2)\n",
    "    \n",
    "    slika_robov = (slika_robov / np.max(slika_robov)) * 255\n",
    "    slika_robov = slika_robov.astype('uint8')\n",
    "    \n",
    "    return slika_robov"
   ]
  },
  {
   "attachments": {},
   "cell_type": "markdown",
   "metadata": {},
   "source": [
    "### Glavna funkcija"
   ]
  },
  {
   "cell_type": "code",
   "execution_count": 4,
   "metadata": {},
   "outputs": [],
   "source": [
    "sp_prag = 100\n",
    "zg_prag = 200\n",
    "\n",
    "# Preberi sliko lenna.png iz direktorija projekta\n",
    "slika = cv2.imread('./lenna.png')\n",
    "\n",
    "# Pretvori sliko v sivinsko obliko\n",
    "gray = cv2.cvtColor(slika, cv2.COLOR_BGR2GRAY)\n",
    "\n",
    "\n",
    "while True:\n",
    "\n",
    "    cv2.imshow('Originalna slika', gray)\n",
    "    \n",
    "    \n",
    "    slika_robov = my_roberts(gray)\n",
    "    cv2.imshow('Slika robov (Roberts)', slika_robov)\n",
    "\n",
    "    slika_robov2 = my_prewitt(gray)\n",
    "    cv2.imshow('Slika robov (Prewitt)', slika_robov2)\n",
    "\n",
    "    slika_robov3 = my_sobel(gray)\n",
    "    cv2.imshow('Slika robov (Sobel)', slika_robov3)\n",
    "\n",
    "    #Uporabi Canny detektor robov z različnimi parametri\n",
    "    canny1 = canny(gray, sp_prag, zg_prag)\n",
    "    canny2 = canny(gray, sp_prag//2, zg_prag//2)\n",
    "    canny3 = canny(gray, sp_prag*2, zg_prag*2)\n",
    "    #Prikaz posnetka in detekcij robov\n",
    "    #cv2.imshow('Canny1',canny1)\n",
    "    #cv2.imshow('Canny2',canny2)\n",
    "    #cv2.imshow('Canny3',canny3)\n",
    "\n",
    "\n",
    "    key = cv2.waitKey(1)\n",
    "    if key & 0xFF == ord('q'):\n",
    "        break\n",
    "\n",
    "\n",
    "cv2.waitKey(0)\n",
    "cv2.destroyAllWindows()"
   ]
  }
 ],
 "metadata": {
  "kernelspec": {
   "display_name": "Python 3",
   "language": "python",
   "name": "python3"
  },
  "language_info": {
   "codemirror_mode": {
    "name": "ipython",
    "version": 3
   },
   "file_extension": ".py",
   "mimetype": "text/x-python",
   "name": "python",
   "nbconvert_exporter": "python",
   "pygments_lexer": "ipython3",
   "version": "3.11.2"
  },
  "orig_nbformat": 4
 },
 "nbformat": 4,
 "nbformat_minor": 2
}
